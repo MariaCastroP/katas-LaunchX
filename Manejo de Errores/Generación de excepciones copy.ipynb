{
 "cells": [
  {
   "cell_type": "code",
   "execution_count": 10,
   "metadata": {},
   "outputs": [
    {
     "ename": "TypeError",
     "evalue": "Todos los argumentos deben ser de tipo enteros, se recibió: '3'",
     "output_type": "error",
     "traceback": [
      "\u001b[1;31m---------------------------------------------------------------------------\u001b[0m",
      "\u001b[1;31mTypeError\u001b[0m                                 Traceback (most recent call last)",
      "\u001b[1;32mc:\\Users\\User\\Desktop\\LaunchX\\CursoIntroPython-main\\On Boarding\\Manejo de Errores\\Generación de excepciones.ipynb Cell 1'\u001b[0m in \u001b[0;36magua_restante\u001b[1;34m(astronauta, agua_restante, dias_restantes)\u001b[0m\n\u001b[0;32m      <a href='vscode-notebook-cell:/c%3A/Users/User/Desktop/LaunchX/CursoIntroPython-main/On%20Boarding/Manejo%20de%20Errores/Generaci%C3%B3n%20de%20excepciones.ipynb#ch0000000?line=3'>4</a>\u001b[0m uso_diario\u001b[39m=\u001b[39mastronauta\u001b[39m*\u001b[39m\u001b[39m11\u001b[39m\n\u001b[1;32m----> <a href='vscode-notebook-cell:/c%3A/Users/User/Desktop/LaunchX/CursoIntroPython-main/On%20Boarding/Manejo%20de%20Errores/Generaci%C3%B3n%20de%20excepciones.ipynb#ch0000000?line=4'>5</a>\u001b[0m uso_total\u001b[39m=\u001b[39muso_diario\u001b[39m*\u001b[39;49mdias_restantes\n\u001b[0;32m      <a href='vscode-notebook-cell:/c%3A/Users/User/Desktop/LaunchX/CursoIntroPython-main/On%20Boarding/Manejo%20de%20Errores/Generaci%C3%B3n%20de%20excepciones.ipynb#ch0000000?line=5'>6</a>\u001b[0m agua_total_restante\u001b[39m=\u001b[39magua_restante\u001b[39m-\u001b[39muso_total\n",
      "\u001b[1;31mTypeError\u001b[0m: can't multiply sequence by non-int of type 'NoneType'",
      "\nDuring handling of the above exception, another exception occurred:\n",
      "\u001b[1;31mTypeError\u001b[0m                                 Traceback (most recent call last)",
      "\u001b[1;32mc:\\Users\\User\\Desktop\\LaunchX\\CursoIntroPython-main\\On Boarding\\Manejo de Errores\\Generación de excepciones.ipynb Cell 1'\u001b[0m in \u001b[0;36m<module>\u001b[1;34m\u001b[0m\n\u001b[0;32m     <a href='vscode-notebook-cell:/c%3A/Users/User/Desktop/LaunchX/CursoIntroPython-main/On%20Boarding/Manejo%20de%20Errores/Generaci%C3%B3n%20de%20excepciones.ipynb#ch0000000?line=14'>15</a>\u001b[0m \u001b[39m#print(agua_restante(5,100,2))\u001b[39;00m\n\u001b[0;32m     <a href='vscode-notebook-cell:/c%3A/Users/User/Desktop/LaunchX/CursoIntroPython-main/On%20Boarding/Manejo%20de%20Errores/Generaci%C3%B3n%20de%20excepciones.ipynb#ch0000000?line=16'>17</a>\u001b[0m \u001b[39mtry\u001b[39;00m:\n\u001b[1;32m---> <a href='vscode-notebook-cell:/c%3A/Users/User/Desktop/LaunchX/CursoIntroPython-main/On%20Boarding/Manejo%20de%20Errores/Generaci%C3%B3n%20de%20excepciones.ipynb#ch0000000?line=17'>18</a>\u001b[0m     agua_restante(\u001b[39m\"\u001b[39;49m\u001b[39m3\u001b[39;49m\u001b[39m\"\u001b[39;49m,\u001b[39m\"\u001b[39;49m\u001b[39m200\u001b[39;49m\u001b[39m\"\u001b[39;49m,\u001b[39mNone\u001b[39;49;00m)\n\u001b[0;32m     <a href='vscode-notebook-cell:/c%3A/Users/User/Desktop/LaunchX/CursoIntroPython-main/On%20Boarding/Manejo%20de%20Errores/Generaci%C3%B3n%20de%20excepciones.ipynb#ch0000000?line=18'>19</a>\u001b[0m \u001b[39mexcept\u001b[39;00m \u001b[39mRuntimeError\u001b[39;00m \u001b[39mas\u001b[39;00m err:\n\u001b[0;32m     <a href='vscode-notebook-cell:/c%3A/Users/User/Desktop/LaunchX/CursoIntroPython-main/On%20Boarding/Manejo%20de%20Errores/Generaci%C3%B3n%20de%20excepciones.ipynb#ch0000000?line=19'>20</a>\u001b[0m     alerta_navegacion(err)\n",
      "\u001b[1;32mc:\\Users\\User\\Desktop\\LaunchX\\CursoIntroPython-main\\On Boarding\\Manejo de Errores\\Generación de excepciones.ipynb Cell 1'\u001b[0m in \u001b[0;36magua_restante\u001b[1;34m(astronauta, agua_restante, dias_restantes)\u001b[0m\n\u001b[0;32m     <a href='vscode-notebook-cell:/c%3A/Users/User/Desktop/LaunchX/CursoIntroPython-main/On%20Boarding/Manejo%20de%20Errores/Generaci%C3%B3n%20de%20excepciones.ipynb#ch0000000?line=9'>10</a>\u001b[0m     \u001b[39mreturn\u001b[39;00m \u001b[39mf\u001b[39m\u001b[39m\"\"\"\u001b[39m\u001b[39mAgua total restante después de \u001b[39m\u001b[39m{\u001b[39;00mdias_restantes\u001b[39m}\u001b[39;00m\u001b[39m \u001b[39m\n\u001b[0;32m     <a href='vscode-notebook-cell:/c%3A/Users/User/Desktop/LaunchX/CursoIntroPython-main/On%20Boarding/Manejo%20de%20Errores/Generaci%C3%B3n%20de%20excepciones.ipynb#ch0000000?line=10'>11</a>\u001b[0m \u001b[39m    dias es:\u001b[39m\u001b[39m{\u001b[39;00magua_total_restante\u001b[39m}\u001b[39;00m\u001b[39m L\u001b[39m\u001b[39m\"\"\"\u001b[39m\n\u001b[0;32m     <a href='vscode-notebook-cell:/c%3A/Users/User/Desktop/LaunchX/CursoIntroPython-main/On%20Boarding/Manejo%20de%20Errores/Generaci%C3%B3n%20de%20excepciones.ipynb#ch0000000?line=11'>12</a>\u001b[0m \u001b[39mexcept\u001b[39;00m \u001b[39mTypeError\u001b[39;00m:\n\u001b[1;32m---> <a href='vscode-notebook-cell:/c%3A/Users/User/Desktop/LaunchX/CursoIntroPython-main/On%20Boarding/Manejo%20de%20Errores/Generaci%C3%B3n%20de%20excepciones.ipynb#ch0000000?line=12'>13</a>\u001b[0m     \u001b[39mraise\u001b[39;00m \u001b[39mTypeError\u001b[39;00m(\u001b[39mf\u001b[39m\u001b[39m\"\u001b[39m\u001b[39mTodos los argumentos deben ser de tipo enteros, se recibió: \u001b[39m\u001b[39m'\u001b[39m\u001b[39m{\u001b[39;00margumento\u001b[39m}\u001b[39;00m\u001b[39m'\u001b[39m\u001b[39m\"\u001b[39m)\n",
      "\u001b[1;31mTypeError\u001b[0m: Todos los argumentos deben ser de tipo enteros, se recibió: '3'"
     ]
    }
   ],
   "source": [
    "def agua_restante(astronauta,agua_restante,dias_restantes):\n",
    "    for argumento in [astronauta,agua_restante,dias_restantes]:\n",
    "        try:            \n",
    "            uso_diario=astronauta*11\n",
    "            uso_total=uso_diario*dias_restantes\n",
    "            agua_total_restante=agua_restante-uso_total\n",
    "            if agua_total_restante<0:\n",
    "                raise RuntimeError(f\"\"\"¡No hay agua suficiente para {astronauta} astronautas\n",
    "            después de {dias_restantes} días!\"\"\")\n",
    "            return f\"\"\"Agua total restante después de {dias_restantes} \n",
    "            dias es:{agua_total_restante} L\"\"\"\n",
    "        except TypeError:\n",
    "            raise TypeError(f\"Todos los argumentos deben ser de tipo enteros, se recibió: '{argumento}'\")\n",
    "\n",
    "#print(agua_restante(5,100,2))\n",
    "\n",
    "try:\n",
    "    agua_restante(\"3\",\"200\",None)\n",
    "except RuntimeError as err:\n",
    "    alerta_navegacion(err)\n"
   ]
  }
 ],
 "metadata": {
  "interpreter": {
   "hash": "aecd030d4c8316a52bf122072e28f84bcc79844c2684e041fef2e3f1d9f59078"
  },
  "kernelspec": {
   "display_name": "Python 3.10.2 64-bit",
   "language": "python",
   "name": "python3"
  },
  "language_info": {
   "codemirror_mode": {
    "name": "ipython",
    "version": 3
   },
   "file_extension": ".py",
   "mimetype": "text/x-python",
   "name": "python",
   "nbconvert_exporter": "python",
   "pygments_lexer": "ipython3",
   "version": "3.10.2"
  },
  "orig_nbformat": 4
 },
 "nbformat": 4,
 "nbformat_minor": 2
}
